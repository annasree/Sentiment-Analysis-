{
  "cells": [
    {
      "cell_type": "markdown",
      "metadata": {
        "id": "view-in-github",
        "colab_type": "text"
      },
      "source": [
        "<a href=\"https://colab.research.google.com/github/annasree/Sentiment-Analysis-/blob/main/7PAM2015_0105_2023_Assignment_3_Individual_project_Large_Language_Models_.ipynb\" target=\"_parent\"><img src=\"https://colab.research.google.com/assets/colab-badge.svg\" alt=\"Open In Colab\"/></a>"
      ]
    },
    {
      "cell_type": "markdown",
      "source": [
        " This project train, deploy and fine-tune a BERT-style LLM to do sentiment analysis of amazone customer reviews, data taken from kaggle."
      ],
      "metadata": {
        "id": "PhwliAUrcK2h"
      }
    },
    {
      "cell_type": "code",
      "execution_count": 47,
      "metadata": {
        "id": "g2dx4rurQRaq"
      },
      "outputs": [],
      "source": [
        "# import necessory modules\n",
        "import torch\n",
        "import string\n",
        "import numpy as np\n",
        "import pandas as pd\n",
        "import torch.nn as nn\n",
        "from google.colab import drive\n",
        "import matplotlib.pyplot as plt\n",
        "from nltk.corpus import stopwords\n",
        "from nltk.stem import PorterStemmer\n",
        "from transformers import BertTokenizer\n",
        "from nltk.tokenize import word_tokenize\n",
        "from sklearn.model_selection import train_test_split\n",
        "from transformers import BertForSequenceClassification\n",
        "from transformers import AdamW, get_linear_schedule_with_warmup\n",
        "from torch.utils.data import TensorDataset, DataLoader, RandomSampler, SequentialSampler\n",
        "\n",
        "\n"
      ]
    },
    {
      "cell_type": "markdown",
      "source": [
        "Step 1 : In the first step we loaded the data and done some data preprocessing like identifying and filling the missing values. Also done some exploratory data anlysis."
      ],
      "metadata": {
        "id": "HeB2bxzxc2Db"
      }
    },
    {
      "cell_type": "code",
      "execution_count": 48,
      "metadata": {
        "colab": {
          "base_uri": "https://localhost:8080/"
        },
        "id": "ISoMC1g0eMlt",
        "outputId": "e87f94e5-1c93-480c-ddf5-7f9a5ba55674"
      },
      "outputs": [
        {
          "output_type": "stream",
          "name": "stdout",
          "text": [
            "Drive already mounted at /content/drive; to attempt to forcibly remount, call drive.mount(\"/content/drive\", force_remount=True).\n",
            "Archive:  /content/drive/MyDrive/archive (16).zip\n",
            "  inflating: /content/drive/MyDrive/Sentiment_Analysis_data/amazon_reviews.csv  \n"
          ]
        }
      ],
      "source": [
        "# import data\n",
        "drive.mount('/content/drive')\n",
        "!unzip \"/content/drive/MyDrive/archive (16).zip\" -d \"/content/drive/MyDrive/Sentiment_Analysis_data/\""
      ]
    },
    {
      "cell_type": "code",
      "execution_count": 49,
      "metadata": {
        "id": "ZhVyi0A-eQSA"
      },
      "outputs": [],
      "source": [
        "# Load data\n",
        "data_path = \"/content/drive/MyDrive/Sentiment_Analysis_data/amazon_reviews.csv\"\n",
        "df = pd.read_csv(data_path)\n"
      ]
    },
    {
      "cell_type": "code",
      "execution_count": 50,
      "metadata": {
        "colab": {
          "base_uri": "https://localhost:8080/",
          "height": 206
        },
        "id": "Y5vvLZsFeRxT",
        "outputId": "cd51cdd4-e187-42e0-d554-29db0dcd2c35"
      },
      "outputs": [
        {
          "output_type": "execute_result",
          "data": {
            "text/plain": [
              "   rating       date         variation  \\\n",
              "0       5  31-Jul-18  Charcoal Fabric    \n",
              "1       5  31-Jul-18  Charcoal Fabric    \n",
              "2       4  31-Jul-18    Walnut Finish    \n",
              "3       5  31-Jul-18  Charcoal Fabric    \n",
              "4       5  31-Jul-18  Charcoal Fabric    \n",
              "\n",
              "                                    verified_reviews  feedback  \n",
              "0                                      Love my Echo!         1  \n",
              "1                                          Loved it!         1  \n",
              "2  Sometimes while playing a game, you can answer...         1  \n",
              "3  I have had a lot of fun with this thing. My 4 ...         1  \n",
              "4                                              Music         1  "
            ],
            "text/html": [
              "\n",
              "  <div id=\"df-55c9bdbb-1e94-402e-9bf6-c685206eb2f3\" class=\"colab-df-container\">\n",
              "    <div>\n",
              "<style scoped>\n",
              "    .dataframe tbody tr th:only-of-type {\n",
              "        vertical-align: middle;\n",
              "    }\n",
              "\n",
              "    .dataframe tbody tr th {\n",
              "        vertical-align: top;\n",
              "    }\n",
              "\n",
              "    .dataframe thead th {\n",
              "        text-align: right;\n",
              "    }\n",
              "</style>\n",
              "<table border=\"1\" class=\"dataframe\">\n",
              "  <thead>\n",
              "    <tr style=\"text-align: right;\">\n",
              "      <th></th>\n",
              "      <th>rating</th>\n",
              "      <th>date</th>\n",
              "      <th>variation</th>\n",
              "      <th>verified_reviews</th>\n",
              "      <th>feedback</th>\n",
              "    </tr>\n",
              "  </thead>\n",
              "  <tbody>\n",
              "    <tr>\n",
              "      <th>0</th>\n",
              "      <td>5</td>\n",
              "      <td>31-Jul-18</td>\n",
              "      <td>Charcoal Fabric</td>\n",
              "      <td>Love my Echo!</td>\n",
              "      <td>1</td>\n",
              "    </tr>\n",
              "    <tr>\n",
              "      <th>1</th>\n",
              "      <td>5</td>\n",
              "      <td>31-Jul-18</td>\n",
              "      <td>Charcoal Fabric</td>\n",
              "      <td>Loved it!</td>\n",
              "      <td>1</td>\n",
              "    </tr>\n",
              "    <tr>\n",
              "      <th>2</th>\n",
              "      <td>4</td>\n",
              "      <td>31-Jul-18</td>\n",
              "      <td>Walnut Finish</td>\n",
              "      <td>Sometimes while playing a game, you can answer...</td>\n",
              "      <td>1</td>\n",
              "    </tr>\n",
              "    <tr>\n",
              "      <th>3</th>\n",
              "      <td>5</td>\n",
              "      <td>31-Jul-18</td>\n",
              "      <td>Charcoal Fabric</td>\n",
              "      <td>I have had a lot of fun with this thing. My 4 ...</td>\n",
              "      <td>1</td>\n",
              "    </tr>\n",
              "    <tr>\n",
              "      <th>4</th>\n",
              "      <td>5</td>\n",
              "      <td>31-Jul-18</td>\n",
              "      <td>Charcoal Fabric</td>\n",
              "      <td>Music</td>\n",
              "      <td>1</td>\n",
              "    </tr>\n",
              "  </tbody>\n",
              "</table>\n",
              "</div>\n",
              "    <div class=\"colab-df-buttons\">\n",
              "\n",
              "  <div class=\"colab-df-container\">\n",
              "    <button class=\"colab-df-convert\" onclick=\"convertToInteractive('df-55c9bdbb-1e94-402e-9bf6-c685206eb2f3')\"\n",
              "            title=\"Convert this dataframe to an interactive table.\"\n",
              "            style=\"display:none;\">\n",
              "\n",
              "  <svg xmlns=\"http://www.w3.org/2000/svg\" height=\"24px\" viewBox=\"0 -960 960 960\">\n",
              "    <path d=\"M120-120v-720h720v720H120Zm60-500h600v-160H180v160Zm220 220h160v-160H400v160Zm0 220h160v-160H400v160ZM180-400h160v-160H180v160Zm440 0h160v-160H620v160ZM180-180h160v-160H180v160Zm440 0h160v-160H620v160Z\"/>\n",
              "  </svg>\n",
              "    </button>\n",
              "\n",
              "  <style>\n",
              "    .colab-df-container {\n",
              "      display:flex;\n",
              "      gap: 12px;\n",
              "    }\n",
              "\n",
              "    .colab-df-convert {\n",
              "      background-color: #E8F0FE;\n",
              "      border: none;\n",
              "      border-radius: 50%;\n",
              "      cursor: pointer;\n",
              "      display: none;\n",
              "      fill: #1967D2;\n",
              "      height: 32px;\n",
              "      padding: 0 0 0 0;\n",
              "      width: 32px;\n",
              "    }\n",
              "\n",
              "    .colab-df-convert:hover {\n",
              "      background-color: #E2EBFA;\n",
              "      box-shadow: 0px 1px 2px rgba(60, 64, 67, 0.3), 0px 1px 3px 1px rgba(60, 64, 67, 0.15);\n",
              "      fill: #174EA6;\n",
              "    }\n",
              "\n",
              "    .colab-df-buttons div {\n",
              "      margin-bottom: 4px;\n",
              "    }\n",
              "\n",
              "    [theme=dark] .colab-df-convert {\n",
              "      background-color: #3B4455;\n",
              "      fill: #D2E3FC;\n",
              "    }\n",
              "\n",
              "    [theme=dark] .colab-df-convert:hover {\n",
              "      background-color: #434B5C;\n",
              "      box-shadow: 0px 1px 3px 1px rgba(0, 0, 0, 0.15);\n",
              "      filter: drop-shadow(0px 1px 2px rgba(0, 0, 0, 0.3));\n",
              "      fill: #FFFFFF;\n",
              "    }\n",
              "  </style>\n",
              "\n",
              "    <script>\n",
              "      const buttonEl =\n",
              "        document.querySelector('#df-55c9bdbb-1e94-402e-9bf6-c685206eb2f3 button.colab-df-convert');\n",
              "      buttonEl.style.display =\n",
              "        google.colab.kernel.accessAllowed ? 'block' : 'none';\n",
              "\n",
              "      async function convertToInteractive(key) {\n",
              "        const element = document.querySelector('#df-55c9bdbb-1e94-402e-9bf6-c685206eb2f3');\n",
              "        const dataTable =\n",
              "          await google.colab.kernel.invokeFunction('convertToInteractive',\n",
              "                                                    [key], {});\n",
              "        if (!dataTable) return;\n",
              "\n",
              "        const docLinkHtml = 'Like what you see? Visit the ' +\n",
              "          '<a target=\"_blank\" href=https://colab.research.google.com/notebooks/data_table.ipynb>data table notebook</a>'\n",
              "          + ' to learn more about interactive tables.';\n",
              "        element.innerHTML = '';\n",
              "        dataTable['output_type'] = 'display_data';\n",
              "        await google.colab.output.renderOutput(dataTable, element);\n",
              "        const docLink = document.createElement('div');\n",
              "        docLink.innerHTML = docLinkHtml;\n",
              "        element.appendChild(docLink);\n",
              "      }\n",
              "    </script>\n",
              "  </div>\n",
              "\n",
              "\n",
              "<div id=\"df-3457cad1-acd6-40b5-8ef4-6546b08be404\">\n",
              "  <button class=\"colab-df-quickchart\" onclick=\"quickchart('df-3457cad1-acd6-40b5-8ef4-6546b08be404')\"\n",
              "            title=\"Suggest charts\"\n",
              "            style=\"display:none;\">\n",
              "\n",
              "<svg xmlns=\"http://www.w3.org/2000/svg\" height=\"24px\"viewBox=\"0 0 24 24\"\n",
              "     width=\"24px\">\n",
              "    <g>\n",
              "        <path d=\"M19 3H5c-1.1 0-2 .9-2 2v14c0 1.1.9 2 2 2h14c1.1 0 2-.9 2-2V5c0-1.1-.9-2-2-2zM9 17H7v-7h2v7zm4 0h-2V7h2v10zm4 0h-2v-4h2v4z\"/>\n",
              "    </g>\n",
              "</svg>\n",
              "  </button>\n",
              "\n",
              "<style>\n",
              "  .colab-df-quickchart {\n",
              "      --bg-color: #E8F0FE;\n",
              "      --fill-color: #1967D2;\n",
              "      --hover-bg-color: #E2EBFA;\n",
              "      --hover-fill-color: #174EA6;\n",
              "      --disabled-fill-color: #AAA;\n",
              "      --disabled-bg-color: #DDD;\n",
              "  }\n",
              "\n",
              "  [theme=dark] .colab-df-quickchart {\n",
              "      --bg-color: #3B4455;\n",
              "      --fill-color: #D2E3FC;\n",
              "      --hover-bg-color: #434B5C;\n",
              "      --hover-fill-color: #FFFFFF;\n",
              "      --disabled-bg-color: #3B4455;\n",
              "      --disabled-fill-color: #666;\n",
              "  }\n",
              "\n",
              "  .colab-df-quickchart {\n",
              "    background-color: var(--bg-color);\n",
              "    border: none;\n",
              "    border-radius: 50%;\n",
              "    cursor: pointer;\n",
              "    display: none;\n",
              "    fill: var(--fill-color);\n",
              "    height: 32px;\n",
              "    padding: 0;\n",
              "    width: 32px;\n",
              "  }\n",
              "\n",
              "  .colab-df-quickchart:hover {\n",
              "    background-color: var(--hover-bg-color);\n",
              "    box-shadow: 0 1px 2px rgba(60, 64, 67, 0.3), 0 1px 3px 1px rgba(60, 64, 67, 0.15);\n",
              "    fill: var(--button-hover-fill-color);\n",
              "  }\n",
              "\n",
              "  .colab-df-quickchart-complete:disabled,\n",
              "  .colab-df-quickchart-complete:disabled:hover {\n",
              "    background-color: var(--disabled-bg-color);\n",
              "    fill: var(--disabled-fill-color);\n",
              "    box-shadow: none;\n",
              "  }\n",
              "\n",
              "  .colab-df-spinner {\n",
              "    border: 2px solid var(--fill-color);\n",
              "    border-color: transparent;\n",
              "    border-bottom-color: var(--fill-color);\n",
              "    animation:\n",
              "      spin 1s steps(1) infinite;\n",
              "  }\n",
              "\n",
              "  @keyframes spin {\n",
              "    0% {\n",
              "      border-color: transparent;\n",
              "      border-bottom-color: var(--fill-color);\n",
              "      border-left-color: var(--fill-color);\n",
              "    }\n",
              "    20% {\n",
              "      border-color: transparent;\n",
              "      border-left-color: var(--fill-color);\n",
              "      border-top-color: var(--fill-color);\n",
              "    }\n",
              "    30% {\n",
              "      border-color: transparent;\n",
              "      border-left-color: var(--fill-color);\n",
              "      border-top-color: var(--fill-color);\n",
              "      border-right-color: var(--fill-color);\n",
              "    }\n",
              "    40% {\n",
              "      border-color: transparent;\n",
              "      border-right-color: var(--fill-color);\n",
              "      border-top-color: var(--fill-color);\n",
              "    }\n",
              "    60% {\n",
              "      border-color: transparent;\n",
              "      border-right-color: var(--fill-color);\n",
              "    }\n",
              "    80% {\n",
              "      border-color: transparent;\n",
              "      border-right-color: var(--fill-color);\n",
              "      border-bottom-color: var(--fill-color);\n",
              "    }\n",
              "    90% {\n",
              "      border-color: transparent;\n",
              "      border-bottom-color: var(--fill-color);\n",
              "    }\n",
              "  }\n",
              "</style>\n",
              "\n",
              "  <script>\n",
              "    async function quickchart(key) {\n",
              "      const quickchartButtonEl =\n",
              "        document.querySelector('#' + key + ' button');\n",
              "      quickchartButtonEl.disabled = true;  // To prevent multiple clicks.\n",
              "      quickchartButtonEl.classList.add('colab-df-spinner');\n",
              "      try {\n",
              "        const charts = await google.colab.kernel.invokeFunction(\n",
              "            'suggestCharts', [key], {});\n",
              "      } catch (error) {\n",
              "        console.error('Error during call to suggestCharts:', error);\n",
              "      }\n",
              "      quickchartButtonEl.classList.remove('colab-df-spinner');\n",
              "      quickchartButtonEl.classList.add('colab-df-quickchart-complete');\n",
              "    }\n",
              "    (() => {\n",
              "      let quickchartButtonEl =\n",
              "        document.querySelector('#df-3457cad1-acd6-40b5-8ef4-6546b08be404 button');\n",
              "      quickchartButtonEl.style.display =\n",
              "        google.colab.kernel.accessAllowed ? 'block' : 'none';\n",
              "    })();\n",
              "  </script>\n",
              "</div>\n",
              "    </div>\n",
              "  </div>\n"
            ],
            "application/vnd.google.colaboratory.intrinsic+json": {
              "type": "dataframe",
              "variable_name": "df",
              "summary": "{\n  \"name\": \"df\",\n  \"rows\": 3150,\n  \"fields\": [\n    {\n      \"column\": \"rating\",\n      \"properties\": {\n        \"dtype\": \"number\",\n        \"std\": 1,\n        \"min\": 1,\n        \"max\": 5,\n        \"num_unique_values\": 5,\n        \"samples\": [\n          4,\n          1,\n          3\n        ],\n        \"semantic_type\": \"\",\n        \"description\": \"\"\n      }\n    },\n    {\n      \"column\": \"date\",\n      \"properties\": {\n        \"dtype\": \"object\",\n        \"num_unique_values\": 77,\n        \"samples\": [\n          \"27-Jul-18\",\n          \"26-Jun-18\",\n          \"21-Jul-18\"\n        ],\n        \"semantic_type\": \"\",\n        \"description\": \"\"\n      }\n    },\n    {\n      \"column\": \"variation\",\n      \"properties\": {\n        \"dtype\": \"category\",\n        \"num_unique_values\": 16,\n        \"samples\": [\n          \"Charcoal Fabric \",\n          \"Walnut Finish \",\n          \"Black\"\n        ],\n        \"semantic_type\": \"\",\n        \"description\": \"\"\n      }\n    },\n    {\n      \"column\": \"verified_reviews\",\n      \"properties\": {\n        \"dtype\": \"string\",\n        \"num_unique_values\": 2300,\n        \"samples\": [\n          \"Fun tech toy\",\n          \"Love the fire stick. Alexa works well on it too. Would recommend.\",\n          \"The best part of this product is you can control the thermostat and lights for your house.  There isn\\u2019t anything I dislike.\"\n        ],\n        \"semantic_type\": \"\",\n        \"description\": \"\"\n      }\n    },\n    {\n      \"column\": \"feedback\",\n      \"properties\": {\n        \"dtype\": \"number\",\n        \"std\": 0,\n        \"min\": 0,\n        \"max\": 1,\n        \"num_unique_values\": 2,\n        \"samples\": [\n          0,\n          1\n        ],\n        \"semantic_type\": \"\",\n        \"description\": \"\"\n      }\n    }\n  ]\n}"
            }
          },
          "metadata": {},
          "execution_count": 50
        }
      ],
      "source": [
        "# print the first 5 rows\n",
        "df.head()"
      ]
    },
    {
      "cell_type": "code",
      "execution_count": 51,
      "metadata": {
        "colab": {
          "base_uri": "https://localhost:8080/"
        },
        "id": "8eMW0DEOeRsR",
        "outputId": "16f63270-9805-418c-9892-73ed2f11eb24"
      },
      "outputs": [
        {
          "output_type": "stream",
          "name": "stdout",
          "text": [
            "                                              Review  Sentiment\n",
            "0                                      Love my Echo!          1\n",
            "1                                          Loved it!          1\n",
            "2  Sometimes while playing a game, you can answer...          1\n",
            "3  I have had a lot of fun with this thing. My 4 ...          1\n",
            "4                                              Music          1\n"
          ]
        }
      ],
      "source": [
        "# Keep only the necessary columns for sentiment analysis\n",
        "sentiment_df = df[['verified_reviews', 'feedback']].copy()\n",
        "\n",
        "# Rename columns\n",
        "sentiment_df.columns = ['Review', 'Sentiment']\n",
        "\n",
        "# Print a sample of the new DataFrame\n",
        "print(sentiment_df.head())"
      ]
    },
    {
      "cell_type": "code",
      "source": [
        "# Print some positive reviews\n",
        "print(\"Positive Reviews:\")\n",
        "positive_reviews = sentiment_df[sentiment_df['Sentiment'] == 1]['Review'].head(3)\n",
        "for review in positive_reviews:\n",
        "    print(review)\n",
        "\n",
        "# Print some negative reviews\n",
        "print(\"\\nNegative Reviews:\")\n",
        "negative_reviews = sentiment_df[sentiment_df['Sentiment'] == 0]['Review'].head(3)\n",
        "for review in negative_reviews:\n",
        "    print(review)\n"
      ],
      "metadata": {
        "colab": {
          "base_uri": "https://localhost:8080/"
        },
        "id": "dwDQNqiwb0YW",
        "outputId": "209635e0-a33a-423c-e541-38c2b0d68d3c"
      },
      "execution_count": 52,
      "outputs": [
        {
          "output_type": "stream",
          "name": "stdout",
          "text": [
            "Positive Reviews:\n",
            "Love my Echo!\n",
            "Loved it!\n",
            "Sometimes while playing a game, you can answer a question correctly but Alexa says you got it wrong and answers the same as you.  I like being able to turn lights on and off while away from home.\n",
            "\n",
            "Negative Reviews:\n",
            "It's like Siri, in fact, Siri answers more accurately then Alexa.  I don't see a real need for it in my household, though it was a good bargain on prime day deals.\n",
            "Sound is terrible if u want good music too get a bose\n",
            "Not much features.\n"
          ]
        }
      ]
    },
    {
      "cell_type": "code",
      "execution_count": 53,
      "metadata": {
        "colab": {
          "base_uri": "https://localhost:8080/"
        },
        "id": "0KMDDnCceRo_",
        "outputId": "d4f5a25e-712e-458e-e14f-181f78aa474a"
      },
      "outputs": [
        {
          "output_type": "stream",
          "name": "stdout",
          "text": [
            "<class 'pandas.core.frame.DataFrame'>\n",
            "RangeIndex: 3150 entries, 0 to 3149\n",
            "Data columns (total 2 columns):\n",
            " #   Column     Non-Null Count  Dtype \n",
            "---  ------     --------------  ----- \n",
            " 0   Review     3149 non-null   object\n",
            " 1   Sentiment  3150 non-null   int64 \n",
            "dtypes: int64(1), object(1)\n",
            "memory usage: 49.3+ KB\n"
          ]
        }
      ],
      "source": [
        "# print data info\n",
        "sentiment_df.info()"
      ]
    },
    {
      "cell_type": "code",
      "execution_count": 54,
      "metadata": {
        "colab": {
          "base_uri": "https://localhost:8080/"
        },
        "id": "pH7-ezn4eRkn",
        "outputId": "d38f6bec-6956-4ed6-95c1-0129032a3577"
      },
      "outputs": [
        {
          "output_type": "stream",
          "name": "stdout",
          "text": [
            "Review       1\n",
            "Sentiment    0\n",
            "dtype: int64\n"
          ]
        }
      ],
      "source": [
        "# Check for missing values\n",
        "missing_values = sentiment_df.isnull().sum()\n",
        "print(missing_values)"
      ]
    },
    {
      "cell_type": "code",
      "execution_count": 55,
      "metadata": {
        "id": "hUvfjfb6eRgX"
      },
      "outputs": [],
      "source": [
        "# Fill missing value\n",
        "sentiment_df['Review'].fillna('Not available', inplace=True)"
      ]
    },
    {
      "cell_type": "code",
      "execution_count": 56,
      "metadata": {
        "colab": {
          "base_uri": "https://localhost:8080/"
        },
        "id": "qfbGjF_0eRcb",
        "outputId": "1a9b0475-940f-4d44-bbed-188675f79e65"
      },
      "outputs": [
        {
          "output_type": "stream",
          "name": "stdout",
          "text": [
            "Review       0\n",
            "Sentiment    0\n",
            "dtype: int64\n"
          ]
        }
      ],
      "source": [
        "# Check for missing values\n",
        "missing_values = sentiment_df.isnull().sum()\n",
        "print(missing_values)"
      ]
    },
    {
      "cell_type": "code",
      "execution_count": 57,
      "metadata": {
        "colab": {
          "base_uri": "https://localhost:8080/",
          "height": 452
        },
        "id": "8enSferTPfxO",
        "outputId": "02e4d3d7-3711-4445-8dfa-f9e3867ccff6"
      },
      "outputs": [
        {
          "output_type": "display_data",
          "data": {
            "text/plain": [
              "<Figure size 640x480 with 1 Axes>"
            ],
            "image/png": "[encoded data removed]"
          },
          "metadata": {}
        }
      ],
      "source": [
        "# ploting the frequency of positive and negative reviews\n",
        "sentiment_df['Sentiment'].plot(kind='hist', bins=20, title='Sentiment')\n",
        "plt.gca().spines[['top', 'right',]].set_visible(False)"
      ]
    },
    {
      "cell_type": "markdown",
      "source": [
        "Step 2: Prepare the data for training, evaluation and testing, Splitted the data into train, validation and test sets, tokenized and encoded the input text data and created the dataloaders."
      ],
      "metadata": {
        "id": "rS5i8_07eXhU"
      }
    },
    {
      "cell_type": "code",
      "execution_count": 58,
      "metadata": {
        "id": "Vtz24jkWT_et"
      },
      "outputs": [],
      "source": [
        "# Split the data into features (X) and target (y)\n",
        "X = sentiment_df['Review']\n",
        "y = sentiment_df['Sentiment']\n",
        "\n",
        "# Split the data into train and test sets\n",
        "X_train, X_test, y_train, y_test = train_test_split(X, y, test_size=0.2, random_state=42)\n",
        "\n",
        "# Split the train set into train and validation sets\n",
        "X_train, X_val, y_train, y_val = train_test_split(X_train, y_train, test_size=0.25, random_state=42)\n",
        "\n",
        "# Create DataFrames for train, validation, and test sets\n",
        "train_df = pd.DataFrame({'Review': X_train, 'Sentiment': y_train})\n",
        "val_df = pd.DataFrame({'Review': X_val, 'Sentiment': y_val})\n",
        "test_df = pd.DataFrame({'Review': X_test, 'Sentiment': y_test})"
      ]
    },
    {
      "cell_type": "code",
      "execution_count": 59,
      "metadata": {
        "colab": {
          "base_uri": "https://localhost:8080/"
        },
        "id": "r-ZMe01PeRUj",
        "outputId": "ac89f4b7-e79d-4675-ea23-c792501b4987"
      },
      "outputs": [
        {
          "output_type": "stream",
          "name": "stderr",
          "text": [
            "Truncation was not explicitly activated but `max_length` is provided a specific value, please use `truncation=True` to explicitly truncate examples to max length. Defaulting to 'longest_first' truncation strategy. If you encode pairs of sequences (GLUE-style) with the tokenizer you can select this strategy more precisely by providing a specific strategy to `truncation`.\n",
            "/usr/local/lib/python3.10/dist-packages/transformers/tokenization_utils_base.py:2674: FutureWarning: The `pad_to_max_length` argument is deprecated and will be removed in a future version, use `padding=True` or `padding='longest'` to pad to the longest sequence in the batch, or use `padding='max_length'` to pad to a max length. In this case, you can give a specific length with `max_length` (e.g. `max_length=45`) or leave max_length to None to pad to the maximal input size of the model (e.g. 512 for Bert).\n",
            "  warnings.warn(\n"
          ]
        }
      ],
      "source": [
        "# Initialize BERT tokenizer\n",
        "tokenizer = BertTokenizer.from_pretrained('bert-base-uncased')\n",
        "\n",
        "max_length = 128\n",
        "\n",
        "# Tokenize and encode the text data\n",
        "def tokenize_and_encode(texts):\n",
        "    input_ids = []\n",
        "    attention_masks = []\n",
        "    for text in texts:\n",
        "        # Tokenize text\n",
        "        encoded_dict = tokenizer.encode_plus(\n",
        "                            text,\n",
        "                            add_special_tokens = True,\n",
        "                            max_length = max_length,\n",
        "                            pad_to_max_length = True,\n",
        "                            return_attention_mask = True,\n",
        "                            return_tensors = 'pt',\n",
        "                       )\n",
        "        # Add the encoded sentence to the list\n",
        "        input_ids.append(encoded_dict['input_ids'])\n",
        "        attention_masks.append(encoded_dict['attention_mask'])\n",
        "\n",
        "    # Convert lists to tensors\n",
        "    input_ids = torch.cat(input_ids, dim=0)\n",
        "    attention_masks = torch.cat(attention_masks, dim=0)\n",
        "\n",
        "    return input_ids, attention_masks\n",
        "\n",
        "# Tokenize and encode training data\n",
        "train_input_ids, train_attention_masks = tokenize_and_encode(X_train)\n",
        "\n",
        "# Tokenize and encode validation data\n",
        "val_input_ids, val_attention_masks = tokenize_and_encode(X_val)\n",
        "\n",
        "# Tokenize and encode test data\n",
        "test_input_ids, test_attention_masks = tokenize_and_encode(X_test)\n",
        "\n",
        "# Create DataLoaders for training, validation, and test data\n",
        "batch_size = 32\n",
        "\n",
        "# Training DataLoader\n",
        "train_labels = torch.tensor(y_train.values)  # Convert y_train to numpy array and then to PyTorch tensor\n",
        "train_dataset = TensorDataset(train_input_ids, train_attention_masks, train_labels)\n",
        "train_sampler = RandomSampler(train_dataset)\n",
        "train_dataloader = DataLoader(train_dataset, sampler=train_sampler, batch_size=batch_size)\n",
        "\n",
        "\n",
        "# Validation DataLoader\n",
        "val_labels = torch.tensor(y_val.values)  # Convert y_val to numpy array and then to PyTorch tensor\n",
        "val_dataset = TensorDataset(val_input_ids, val_attention_masks, val_labels)\n",
        "val_sampler = SequentialSampler(val_dataset)\n",
        "val_dataloader = DataLoader(val_dataset, sampler=val_sampler, batch_size=batch_size)\n",
        "\n",
        "# Test DataLoader\n",
        "test_dataset = TensorDataset(test_input_ids, test_attention_masks)\n",
        "test_sampler = SequentialSampler(test_dataset)\n",
        "test_dataloader = DataLoader(test_dataset, sampler=test_sampler, batch_size=batch_size)\n"
      ]
    },
    {
      "cell_type": "markdown",
      "source": [
        "Step 3: Loaded the pre-trained BERT model, Fine-Tuned the pre-trained BERT model by adding dropout layer and unfreezing some layers, model trainig, evaluation and testing"
      ],
      "metadata": {
        "id": "_upo30K8e_6c"
      }
    },
    {
      "cell_type": "code",
      "execution_count": 60,
      "metadata": {
        "colab": {
          "base_uri": "https://localhost:8080/"
        },
        "id": "AWGRN7nneRQf",
        "outputId": "9e2f3a31-5784-48d9-c2a5-9af3cd4d4d28"
      },
      "outputs": [
        {
          "output_type": "stream",
          "name": "stderr",
          "text": [
            "Some weights of BertForSequenceClassification were not initialized from the model checkpoint at bert-base-uncased and are newly initialized: ['classifier.bias', 'classifier.weight']\n",
            "You should probably TRAIN this model on a down-stream task to be able to use it for predictions and inference.\n"
          ]
        },
        {
          "output_type": "stream",
          "name": "stdout",
          "text": [
            "BertForSequenceClassification(\n",
            "  (bert): BertModel(\n",
            "    (embeddings): BertEmbeddings(\n",
            "      (word_embeddings): Embedding(30522, 768, padding_idx=0)\n",
            "      (position_embeddings): Embedding(512, 768)\n",
            "      (token_type_embeddings): Embedding(2, 768)\n",
            "      (LayerNorm): LayerNorm((768,), eps=1e-12, elementwise_affine=True)\n",
            "      (dropout): Dropout(p=0.1, inplace=False)\n",
            "    )\n",
            "    (encoder): BertEncoder(\n",
            "      (layer): ModuleList(\n",
            "        (0-11): 12 x BertLayer(\n",
            "          (attention): BertAttention(\n",
            "            (self): BertSelfAttention(\n",
            "              (query): Linear(in_features=768, out_features=768, bias=True)\n",
            "              (key): Linear(in_features=768, out_features=768, bias=True)\n",
            "              (value): Linear(in_features=768, out_features=768, bias=True)\n",
            "              (dropout): Dropout(p=0.1, inplace=False)\n",
            "            )\n",
            "            (output): BertSelfOutput(\n",
            "              (dense): Linear(in_features=768, out_features=768, bias=True)\n",
            "              (LayerNorm): LayerNorm((768,), eps=1e-12, elementwise_affine=True)\n",
            "              (dropout): Dropout(p=0.1, inplace=False)\n",
            "            )\n",
            "          )\n",
            "          (intermediate): BertIntermediate(\n",
            "            (dense): Linear(in_features=768, out_features=3072, bias=True)\n",
            "            (intermediate_act_fn): GELUActivation()\n",
            "          )\n",
            "          (output): BertOutput(\n",
            "            (dense): Linear(in_features=3072, out_features=768, bias=True)\n",
            "            (LayerNorm): LayerNorm((768,), eps=1e-12, elementwise_affine=True)\n",
            "            (dropout): Dropout(p=0.1, inplace=False)\n",
            "          )\n",
            "        )\n",
            "      )\n",
            "    )\n",
            "    (pooler): BertPooler(\n",
            "      (dense): Linear(in_features=768, out_features=768, bias=True)\n",
            "      (activation): Tanh()\n",
            "    )\n",
            "  )\n",
            "  (dropout): Dropout(p=0.1, inplace=False)\n",
            "  (classifier): Linear(\n",
            "    in_features=768, out_features=2, bias=True\n",
            "    (dropout): Dropout(p=0.1, inplace=False)\n",
            "  )\n",
            ")\n"
          ]
        }
      ],
      "source": [
        "# Number of unique labels (sentiments)\n",
        "num_labels = len(train_df['Sentiment'].unique())\n",
        "\n",
        "# Load pre-trained BERT model for sequence classification\n",
        "model = BertForSequenceClassification.from_pretrained('bert-base-uncased', num_labels=num_labels)\n",
        "\n",
        "# Add Dropout layer to the pre-trained BERT model\n",
        "dropout_prob = 0.1\n",
        "model.classifier.dropout = nn.Dropout(dropout_prob)\n",
        "\n",
        "# Unfreeze some layers of the BERT model for fine-tuning\n",
        "for param in model.bert.parameters():\n",
        "    param.requires_grad = True\n",
        "\n",
        "# Print the model architecture\n",
        "print(model)\n"
      ]
    },
    {
      "cell_type": "code",
      "execution_count": 61,
      "metadata": {
        "id": "ab5O6mYOeRM5",
        "colab": {
          "base_uri": "https://localhost:8080/"
        },
        "outputId": "b6bd3ee9-ec86-4687-f394-dd8d6d4b3106"
      },
      "outputs": [
        {
          "output_type": "stream",
          "name": "stderr",
          "text": [
            "/usr/local/lib/python3.10/dist-packages/transformers/optimization.py:521: FutureWarning: This implementation of AdamW is deprecated and will be removed in a future version. Use the PyTorch implementation torch.optim.AdamW instead, or set `no_deprecation_warning=True` to disable this warning\n",
            "  warnings.warn(\n"
          ]
        }
      ],
      "source": [
        "# Set up optimizer\n",
        "optimizer = AdamW(model.parameters(), lr=2e-5, eps=1e-8)\n",
        "epochs = 5\n",
        "\n",
        "\n",
        "# Number of training steps\n",
        "total_steps = len(train_dataloader) * epochs\n",
        "\n",
        "# Set up learning rate scheduler with warm-up\n",
        "scheduler = get_linear_schedule_with_warmup(optimizer,\n",
        "                                            num_warmup_steps = 0,\n",
        "                                            num_training_steps = total_steps)"
      ]
    },
    {
      "cell_type": "code",
      "execution_count": 62,
      "metadata": {
        "colab": {
          "base_uri": "https://localhost:8080/"
        },
        "id": "Y1M8ErraeRHR",
        "outputId": "6ab8a194-e904-404d-b54c-73679c07c7bd"
      },
      "outputs": [
        {
          "output_type": "stream",
          "name": "stdout",
          "text": [
            "Epoch 1/5, Average Training Loss: 0.3427, Training Accuracy: 0.8852\n",
            "Epoch 1/5, Average Validation Loss: 0.2409, Validation Accuracy: 0.9254\n",
            "Epoch 2/5, Average Training Loss: 0.2239, Training Accuracy: 0.9196\n",
            "Epoch 2/5, Average Validation Loss: 0.1668, Validation Accuracy: 0.9254\n",
            "Epoch 3/5, Average Training Loss: 0.1261, Training Accuracy: 0.9370\n",
            "Epoch 3/5, Average Validation Loss: 0.1389, Validation Accuracy: 0.9381\n",
            "Epoch 4/5, Average Training Loss: 0.0762, Training Accuracy: 0.9704\n",
            "Epoch 4/5, Average Validation Loss: 0.1329, Validation Accuracy: 0.9381\n",
            "Epoch 5/5, Average Training Loss: 0.0468, Training Accuracy: 0.9841\n",
            "Epoch 5/5, Average Validation Loss: 0.1614, Validation Accuracy: 0.9476\n"
          ]
        }
      ],
      "source": [
        "# Put the model in training mode\n",
        "model.train()\n",
        "\n",
        "# Move the model to GPU\n",
        "device = torch.device(\"cuda\" if torch.cuda.is_available() else \"cpu\")\n",
        "model.to(device)\n",
        "\n",
        "# Define the optimizer\n",
        "optimizer = torch.optim.AdamW(model.parameters(), lr=2e-5)\n",
        "\n",
        "# Define the loss criterion\n",
        "criterion = nn.CrossEntropyLoss()\n",
        "\n",
        "# Tracking variables\n",
        "train_losses = []\n",
        "train_accuracies = []\n",
        "val_losses = []\n",
        "val_accuracies = []\n",
        "\n",
        "# Iterate over epochs\n",
        "for epoch in range(5):\n",
        "    train_loss = 0.0\n",
        "    correct_train_preds = 0\n",
        "    total_train_preds = 0\n",
        "\n",
        "    # Training loop\n",
        "    for batch in train_dataloader:\n",
        "        # Add batch to GPU\n",
        "        batch = tuple(t.to(device) for t in batch)\n",
        "        # Unpack the inputs from dataloader\n",
        "        input_ids, attention_mask, labels = batch\n",
        "\n",
        "        # Clear any previously calculated gradients\n",
        "        optimizer.zero_grad()\n",
        "\n",
        "        # Perform a forward pass through the model\n",
        "        outputs = model(input_ids, attention_mask=attention_mask)\n",
        "\n",
        "        # Get the loss and logits\n",
        "        loss = criterion(outputs.logits, labels)\n",
        "\n",
        "        # Perform backward propagation to calculate gradients\n",
        "        loss.backward()\n",
        "\n",
        "        # Update the model parameters\n",
        "        optimizer.step()\n",
        "\n",
        "        # Accumulate the training loss\n",
        "        train_loss += loss.item()\n",
        "\n",
        "        # Calculate training accuracy\n",
        "        _, predicted_train = torch.max(outputs.logits, 1)\n",
        "        correct_train_preds += (predicted_train == labels).sum().item()\n",
        "        total_train_preds += labels.size(0)\n",
        "\n",
        "    # Calculate the average training loss and accuracy for this epoch\n",
        "    avg_train_loss = train_loss / len(train_dataloader)\n",
        "    train_losses.append(avg_train_loss)\n",
        "    train_accuracy = correct_train_preds / total_train_preds\n",
        "    train_accuracies.append(train_accuracy)\n",
        "    print(f\"Epoch {epoch + 1}/{5}, Average Training Loss: {avg_train_loss:.4f}, Training Accuracy: {train_accuracy:.4f}\")\n",
        "\n",
        "    # Validation loop\n",
        "    val_loss = 0.0\n",
        "    correct_val_preds = 0\n",
        "    total_val_preds = 0\n",
        "    with torch.no_grad():\n",
        "        for batch in val_dataloader:\n",
        "            # Add batch to GPU\n",
        "            batch = tuple(t.to(device) for t in batch)\n",
        "            # Unpack the inputs from dataloader\n",
        "            input_ids, attention_mask, labels = batch\n",
        "\n",
        "            # Perform a forward pass through the model\n",
        "            outputs = model(input_ids, attention_mask=attention_mask)\n",
        "\n",
        "            # Get the loss and logits\n",
        "            loss = criterion(outputs.logits, labels)\n",
        "\n",
        "            # Accumulate the validation loss\n",
        "            val_loss += loss.item()\n",
        "\n",
        "            # Calculate validation accuracy\n",
        "            _, predicted_val = torch.max(outputs.logits, 1)\n",
        "            correct_val_preds += (predicted_val == labels).sum().item()\n",
        "            total_val_preds += labels.size(0)\n",
        "\n",
        "    # Calculate the average validation loss and accuracy for this epoch\n",
        "    avg_val_loss = val_loss / len(val_dataloader)\n",
        "    val_losses.append(avg_val_loss)\n",
        "    val_accuracy = correct_val_preds / total_val_preds\n",
        "    val_accuracies.append(val_accuracy)\n",
        "    print(f\"Epoch {epoch + 1}/{5}, Average Validation Loss: {avg_val_loss:.4f}, Validation Accuracy: {val_accuracy:.4f}\")\n",
        "\n"
      ]
    },
    {
      "cell_type": "code",
      "execution_count": 63,
      "metadata": {
        "colab": {
          "base_uri": "https://localhost:8080/",
          "height": 927
        },
        "id": "qZSTZfUSRYJc",
        "outputId": "85bcee05-640a-4d23-d77c-e821e2ded992"
      },
      "outputs": [
        {
          "output_type": "display_data",
          "data": {
            "text/plain": [
              "<Figure size 640x480 with 1 Axes>"
            ],
            "image/png": "[encoded data removed]"
          },
          "metadata": {}
        },
        {
          "output_type": "display_data",
          "data": {
            "text/plain": [
              "<Figure size 640x480 with 1 Axes>"
            ],
            "image/png": "[encoded data removed]"
          },
          "metadata": {}
        }
      ],
      "source": [
        "# Plot the training and validation loss\n",
        "plt.plot(range(1, 6), train_losses, label='Training Loss')\n",
        "plt.plot(range(1, 6), val_losses, label='Validation Loss')\n",
        "plt.xlabel('Epoch')\n",
        "plt.ylabel('Loss')\n",
        "plt.title('Training and Validation Loss')\n",
        "plt.legend()\n",
        "plt.show()\n",
        "\n",
        "# Plot the training and validation accuracy\n",
        "plt.plot(range(1, 6), train_accuracies, label='Training Accuracy')\n",
        "plt.plot(range(1, 6), val_accuracies, label='Validation Accuracy')\n",
        "plt.xlabel('Epoch')\n",
        "plt.ylabel('Accuracy')\n",
        "plt.title('Training and Validation Accuracy')\n",
        "plt.legend()\n",
        "plt.show()\n"
      ]
    },
    {
      "cell_type": "code",
      "execution_count": 64,
      "metadata": {
        "id": "EkyYPbb-mJJ3"
      },
      "outputs": [],
      "source": [
        "# model evaluation\n",
        "model.eval()\n",
        "\n",
        "# Initialize variables to store predictions and true labels\n",
        "all_predictions = []\n",
        "all_labels = []\n",
        "\n",
        "# Iterate over the test data loader\n",
        "for batch in test_dataloader:\n",
        "    # Unpack the batch\n",
        "    input_ids, attention_masks = batch\n",
        "\n",
        "    # Move the tensors to the appropriate device\n",
        "    input_ids = input_ids.to(device)\n",
        "    attention_masks = attention_masks.to(device)\n",
        "\n",
        "    # Perform a forward pass\n",
        "    with torch.no_grad():\n",
        "        outputs = model(input_ids, attention_mask=attention_masks)\n",
        "\n",
        "    # Get the model predictions\n",
        "    logits = outputs.logits\n",
        "    predictions = torch.argmax(logits, dim=1)\n",
        "\n",
        "    # Convert predictions to CPU and numpy arrays\n",
        "    predictions = predictions.cpu().numpy()\n",
        "\n",
        "    # Append predictions to the list\n",
        "    all_predictions.extend(predictions)"
      ]
    },
    {
      "cell_type": "code",
      "execution_count": 65,
      "metadata": {
        "colab": {
          "base_uri": "https://localhost:8080/"
        },
        "id": "T5nkszZxeQ_j",
        "outputId": "c9758911-1783-48a1-bf68-43a98eef27c7"
      },
      "outputs": [
        {
          "output_type": "stream",
          "name": "stdout",
          "text": [
            "Review: las películas no tiene o no se pueden cambiar a español o títulos en español\n",
            "Prediction: 1\n",
            "Actual Sentiment: 0\n",
            "Sentiment Prediction: Incorrect\n",
            "\n",
            "Review: Thought it would be more powerful and have a lot more functionality. Not much better than the Echo dot. Not worth the money.\n",
            "Prediction: 1\n",
            "Actual Sentiment: 0\n",
            "Sentiment Prediction: Incorrect\n",
            "\n",
            "Review: Worked as advertised. Thanks\n",
            "Prediction: 1\n",
            "Actual Sentiment: 1\n",
            "Sentiment Prediction: Correct\n",
            "\n",
            "Review: Easy set up and to use. I bought two one for my house and one for my 75 year old grandfather. I set it up for him a gave him a 15 minute lesson and he calls me at least once a day it’s is great to be able to see him in between visits.\n",
            "Prediction: 1\n",
            "Actual Sentiment: 1\n",
            "Sentiment Prediction: Correct\n",
            "\n",
            "Review: Still love it\n",
            "Prediction: 1\n",
            "Actual Sentiment: 1\n",
            "Sentiment Prediction: Correct\n",
            "\n",
            "Review: I didn't like that almost everytime i asked Alexa a question she would say i dont know that or i havent learned that.\n",
            "Prediction: 0\n",
            "Actual Sentiment: 0\n",
            "Sentiment Prediction: Correct\n",
            "\n",
            "Review: So far I like it.  I bought it just for some music though, and it sounds pretty good.\n",
            "Prediction: 1\n",
            "Actual Sentiment: 1\n",
            "Sentiment Prediction: Correct\n",
            "\n",
            "Review: Great. Definitely gets a little old after a while but for $30 I can't really regret it at all. Love having it hooked up to my speakers via bluetooth and waking up to The Smiths.\n",
            "Prediction: 1\n",
            "Actual Sentiment: 1\n",
            "Sentiment Prediction: Correct\n",
            "\n",
            "Review: Really like it\n",
            "Prediction: 1\n",
            "Actual Sentiment: 1\n",
            "Sentiment Prediction: Correct\n",
            "\n",
            "Review: Finally bought one but it couldn't find my Wi-Fi. Had to buy a Wi-Fi extended. My smart t.v. used the Wi-Fi just fine.\n",
            "Prediction: 0\n",
            "Actual Sentiment: 1\n",
            "Sentiment Prediction: Incorrect\n",
            "\n"
          ]
        }
      ],
      "source": [
        "# Test predictions\n",
        "correct_sentiments = []\n",
        "\n",
        "for review, prediction, actual_label in zip(X_test[10:20], all_predictions[10:20], y_test[10:20]):\n",
        "    if prediction == actual_label:\n",
        "        sentiment = \"Correct\"\n",
        "    else:\n",
        "        sentiment = \"Incorrect\"\n",
        "    correct_sentiments.append(sentiment)\n",
        "    print(\"Review:\", review)\n",
        "    print(\"Prediction:\", prediction)\n",
        "    print(\"Actual Sentiment:\", actual_label)\n",
        "    print(\"Sentiment Prediction:\", sentiment)\n",
        "    print()\n"
      ]
    },
    {
      "cell_type": "code",
      "execution_count": null,
      "metadata": {
        "id": "DPtU9arreQuB"
      },
      "outputs": [],
      "source": []
    }
  ],
  "metadata": {
    "accelerator": "GPU",
    "colab": {
      "gpuType": "T4",
      "provenance": [],
      "authorship_tag": "ABX9TyO6w6De0FKcWjFyT0ziIEYK",
      "include_colab_link": true
    },
    "kernelspec": {
      "display_name": "Python 3",
      "name": "python3"
    },
    "language_info": {
      "name": "python"
    }
  },
  "nbformat": 4,
  "nbformat_minor": 0
}